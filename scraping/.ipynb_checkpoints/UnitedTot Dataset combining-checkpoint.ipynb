{
 "cells": [
  {
   "cell_type": "code",
   "execution_count": 1,
   "metadata": {},
   "outputs": [],
   "source": [
    "import pandas as pd\n",
    "from datetime import datetime\n",
    "from datetime import date"
   ]
  },
  {
   "cell_type": "code",
   "execution_count": 5,
   "metadata": {},
   "outputs": [],
   "source": [
    "df0=pd.read_csv('../datasets/utdtot0.csv')\n",
    "df1=pd.read_csv('../datasets/utdtot1.csv')\n",
    "df2=pd.read_csv('../datasets/utdtot2.csv')\n",
    "df3=pd.read_csv('../datasets/utdtot3.csv')\n",
    "df4=pd.read_csv('../datasets/utdtot4.csv')\n",
    "df5=pd.read_csv('../datasets/utdtot5.csv')\n",
    "df6=pd.read_csv('../datasets/utdtot6.csv')\n",
    "df7=pd.read_csv('../datasets/utdtot7.csv')\n",
    "df8=pd.read_csv('../datasets/utdtot8.csv')\n",
    "df9=pd.read_csv('../datasets/utdtot9.csv')\n",
    "df10=pd.read_csv('../datasets/utdtot10.csv')"
   ]
  },
  {
   "cell_type": "code",
   "execution_count": 6,
   "metadata": {},
   "outputs": [],
   "source": [
    "df = pd.concat([df0, df1, df2, df3, df4, df5, df6, df7, df8, df9, df10])"
   ]
  },
  {
   "cell_type": "code",
   "execution_count": 10,
   "metadata": {},
   "outputs": [],
   "source": [
    "df.to_csv('../datasets/muntotcombined.csv', index_label=False)"
   ]
  },
  {
   "cell_type": "code",
   "execution_count": null,
   "metadata": {},
   "outputs": [],
   "source": []
  }
 ],
 "metadata": {
  "kernelspec": {
   "display_name": "Python 3",
   "language": "python",
   "name": "python3"
  },
  "language_info": {
   "codemirror_mode": {
    "name": "ipython",
    "version": 3
   },
   "file_extension": ".py",
   "mimetype": "text/x-python",
   "name": "python",
   "nbconvert_exporter": "python",
   "pygments_lexer": "ipython3",
   "version": "3.7.7"
  }
 },
 "nbformat": 4,
 "nbformat_minor": 4
}
