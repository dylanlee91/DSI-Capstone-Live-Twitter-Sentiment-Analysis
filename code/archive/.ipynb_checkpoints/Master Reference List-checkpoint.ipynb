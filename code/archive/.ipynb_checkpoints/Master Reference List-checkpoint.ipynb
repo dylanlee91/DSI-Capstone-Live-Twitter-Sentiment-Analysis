{
 "cells": [
  {
   "cell_type": "markdown",
   "metadata": {},
   "source": [
    "# Sentiment Analysis\n",
    "## Vader\n",
    "https://towardsdatascience.com/almost-real-time-twitter-sentiment-analysis-with-tweep-vader-f88ed5b93b1c\n",
    "\n",
    "https://medium.com/analytics-vidhya/simplifying-social-media-sentiment-analysis-using-vader-in-python-f9e6ec6fc52f"
   ]
  },
  {
   "cell_type": "markdown",
   "metadata": {},
   "source": [
    "# Scraping\n",
    "\n",
    "## Tweepy\n",
    "\n",
    "https://www.storybench.org/how-to-collect-tweets-from-the-twitter-streaming-api-using-python/\n",
    "\n",
    "https://dzone.com/articles/stream-tweets-the-easy-way-in-under-15-lines-of-co\n",
    "\n",
    "https://medium.com/@jaimezornoza/downloading-data-from-twitter-using-the-streaming-api-3ac6766ba96c\n",
    "\n",
    "http://docs.tweepy.org/en/latest/streaming_how_to.html\n",
    "\n",
    "https://medium.com/@adam.oudad/stream-tweets-with-tweepy-in-python-99e85b6df468\n",
    "\n",
    "https://towardsdatascience.com/selenium-tweepy-to-scrap-tweets-from-tweeter-and-analysing-sentiments-1804db3478ac\n",
    "\n",
    "https://towardsdatascience.com/how-to-scrape-more-information-from-tweets-on-twitter-44fd540b8a1f\n",
    "\n",
    "## Praw scraping\n",
    "\n",
    "https://praw.readthedocs.io/en/latest/getting_started/configuration.html#configuration\n",
    "\n",
    "https://www.storybench.org/how-to-scrape-reddit-with-python/\n",
    "\n",
    "https://medium.com/analytics-vidhya/praw-a-python-package-to-scrape-reddit-post-data-b759a339ed9a\n",
    "\n",
    "https://towardsdatascience.com/scraping-reddit-data-1c0af3040768\n",
    "\n",
    "https://www.reddit.com/r/redditdev/comments/77z44v/praw_get_timestamp_from_comment_stream/"
   ]
  },
  {
   "cell_type": "markdown",
   "metadata": {},
   "source": [
    "# Topic Modeling\n",
    "\n",
    "https://towardsdatascience.com/twitter-topic-modeling-e0e3315b12e2\n",
    "\n",
    "https://towardsdatascience.com/latent-dirichlet-allocation-lda-9d1cd064ffa2\n",
    "\n",
    "https://radimrehurek.com/gensim/models/ldamodel.html"
   ]
  },
  {
   "cell_type": "markdown",
   "metadata": {},
   "source": [
    "# Sentiment Analysis with Vader\n",
    "https://blog.quantinsti.com/vader-sentiment/#:~:text=Compound%20VADER%20scores%20for%20analyzing,1%20(most%20extreme%20positive)\n",
    "\n",
    "https://towardsdatascience.com/almost-real-time-twitter-sentiment-analysis-with-tweep-vader-f88ed5b93b1c\n",
    "\n",
    "https://towardsdatascience.com/sentimental-analysis-using-vader-a3415fef7664\n",
    "\n",
    "https://github.com/cjhutto/vaderSentiment\n",
    "\n",
    "Hutto, C.J. & Gilbert, E.E. (2014). VADER: A Parsimonious Rule-based Model for Sentiment Analysis of Social Media Text. Eighth International Conference on Weblogs and Social Media (ICWSM-14). Ann Arbor, MI, June 2014."
   ]
  },
  {
   "cell_type": "markdown",
   "metadata": {},
   "source": [
    "# Visualisation\n",
    "\n",
    "https://towardsdatascience.com/visualization-of-information-from-raw-twitter-data-part-1-99181ad19c"
   ]
  },
  {
   "cell_type": "markdown",
   "metadata": {},
   "source": [
    "# Match timing references\n",
    "\n",
    "https://www.theguardian.com/football/live/2020/oct/04/aston-villa-v-liverpool-premier-league-live?page=with:block-5f79f7378f08abd321a6cc45#liveblog-navigation\n",
    "\n",
    "https://www.theguardian.com/football/live/2020/oct/04/manchester-united-v-tottenham-premier-league-live\n",
    "\n",
    "https://www.theguardian.com/football/live/2020/oct/03/chelsea-v-crystal-palace-premier-league-live"
   ]
  },
  {
   "cell_type": "code",
   "execution_count": null,
   "metadata": {},
   "outputs": [],
   "source": []
  }
 ],
 "metadata": {
  "kernelspec": {
   "display_name": "Python 3",
   "language": "python",
   "name": "python3"
  },
  "language_info": {
   "codemirror_mode": {
    "name": "ipython",
    "version": 3
   },
   "file_extension": ".py",
   "mimetype": "text/x-python",
   "name": "python",
   "nbconvert_exporter": "python",
   "pygments_lexer": "ipython3",
   "version": "3.7.7"
  }
 },
 "nbformat": 4,
 "nbformat_minor": 4
}
