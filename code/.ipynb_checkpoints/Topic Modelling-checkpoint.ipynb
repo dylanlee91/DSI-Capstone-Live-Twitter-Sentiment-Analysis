{
 "cells": [
  {
   "cell_type": "code",
   "execution_count": 1,
   "metadata": {},
   "outputs": [
    {
     "name": "stderr",
     "output_type": "stream",
     "text": [
      "[nltk_data] Downloading package wordnet to\n",
      "[nltk_data]     C:\\Users\\Dyllyn\\AppData\\Roaming\\nltk_data...\n",
      "[nltk_data]   Package wordnet is already up-to-date!\n"
     ]
    },
    {
     "data": {
      "text/plain": [
       "True"
      ]
     },
     "execution_count": 1,
     "metadata": {},
     "output_type": "execute_result"
    }
   ],
   "source": [
    "import gensim\n",
    "from gensim.utils import simple_preprocess\n",
    "from gensim.parsing.preprocessing import STOPWORDS\n",
    "from nltk.stem import WordNetLemmatizer, SnowballStemmer\n",
    "from nltk.stem.porter import *\n",
    "import numpy as np\n",
    "np.random.seed(2018)\n",
    "import nltk\n",
    "nltk.download('wordnet')"
   ]
  },
  {
   "cell_type": "code",
   "execution_count": 2,
   "metadata": {},
   "outputs": [],
   "source": [
    "import pandas as pd\n"
   ]
  },
  {
   "cell_type": "code",
   "execution_count": null,
   "metadata": {},
   "outputs": [],
   "source": []
  },
  {
   "cell_type": "markdown",
   "metadata": {},
   "source": [
    "# Dataframe inspection"
   ]
  },
  {
   "cell_type": "code",
   "execution_count": 5,
   "metadata": {},
   "outputs": [],
   "source": [
    "df=pd.read_csv('../datasets/tweetstreamresults.csv')"
   ]
  },
  {
   "cell_type": "code",
   "execution_count": 7,
   "metadata": {
    "scrolled": true
   },
   "outputs": [
    {
     "data": {
      "text/plain": [
       "False    309532\n",
       "True        133\n",
       "dtype: int64"
      ]
     },
     "execution_count": 7,
     "metadata": {},
     "output_type": "execute_result"
    }
   ],
   "source": [
    "df.duplicated().value_counts()"
   ]
  },
  {
   "cell_type": "code",
   "execution_count": 11,
   "metadata": {
    "scrolled": true
   },
   "outputs": [
    {
     "data": {
      "text/html": [
       "<div>\n",
       "<style scoped>\n",
       "    .dataframe tbody tr th:only-of-type {\n",
       "        vertical-align: middle;\n",
       "    }\n",
       "\n",
       "    .dataframe tbody tr th {\n",
       "        vertical-align: top;\n",
       "    }\n",
       "\n",
       "    .dataframe thead th {\n",
       "        text-align: right;\n",
       "    }\n",
       "</style>\n",
       "<table border=\"1\" class=\"dataframe\">\n",
       "  <thead>\n",
       "    <tr style=\"text-align: right;\">\n",
       "      <th></th>\n",
       "      <th>date</th>\n",
       "      <th>user</th>\n",
       "      <th>is_retweet</th>\n",
       "      <th>is_quote</th>\n",
       "      <th>text</th>\n",
       "      <th>quoted_text</th>\n",
       "    </tr>\n",
       "  </thead>\n",
       "  <tbody>\n",
       "    <tr>\n",
       "      <th>0</th>\n",
       "      <td>4/10/2020 18:10</td>\n",
       "      <td>justincroser</td>\n",
       "      <td>False</td>\n",
       "      <td>False</td>\n",
       "      <td>COME ON REDS!! 🔴🔴 Have to sleep for work but h...</td>\n",
       "      <td>NaN</td>\n",
       "    </tr>\n",
       "    <tr>\n",
       "      <th>1</th>\n",
       "      <td>4/10/2020 18:10</td>\n",
       "      <td>LFCYNWA125</td>\n",
       "      <td>True</td>\n",
       "      <td>False</td>\n",
       "      <td>RT @LFC: Jürgen Klopp provides detail on the s...</td>\n",
       "      <td>NaN</td>\n",
       "    </tr>\n",
       "    <tr>\n",
       "      <th>2</th>\n",
       "      <td>4/10/2020 18:10</td>\n",
       "      <td>itstugenfinest</td>\n",
       "      <td>True</td>\n",
       "      <td>False</td>\n",
       "      <td>RT @SkySportsPL: 'I'm pretty sure he won't be ...</td>\n",
       "      <td>NaN</td>\n",
       "    </tr>\n",
       "    <tr>\n",
       "      <th>3</th>\n",
       "      <td>4/10/2020 18:10</td>\n",
       "      <td>guu_mendees</td>\n",
       "      <td>True</td>\n",
       "      <td>False</td>\n",
       "      <td>RT @ludovicofans: Now follow the news        L...</td>\n",
       "      <td>NaN</td>\n",
       "    </tr>\n",
       "    <tr>\n",
       "      <th>4</th>\n",
       "      <td>4/10/2020 18:10</td>\n",
       "      <td>justindivine5</td>\n",
       "      <td>True</td>\n",
       "      <td>True</td>\n",
       "      <td>RT @AnfieldWatch: Jurgen Klopp: “It’s an inter...</td>\n",
       "      <td>Liverpool face an anxious wait on how long the...</td>\n",
       "    </tr>\n",
       "    <tr>\n",
       "      <th>...</th>\n",
       "      <td>...</td>\n",
       "      <td>...</td>\n",
       "      <td>...</td>\n",
       "      <td>...</td>\n",
       "      <td>...</td>\n",
       "      <td>...</td>\n",
       "    </tr>\n",
       "    <tr>\n",
       "      <th>309660</th>\n",
       "      <td>4/10/2020 20:20</td>\n",
       "      <td>IamTytanium</td>\n",
       "      <td>True</td>\n",
       "      <td>True</td>\n",
       "      <td>RT @kennagq: Don't let a minor ole disastercla...</td>\n",
       "      <td>Lol you better laff belleful   Do you think Li...</td>\n",
       "    </tr>\n",
       "    <tr>\n",
       "      <th>309661</th>\n",
       "      <td>4/10/2020 20:20</td>\n",
       "      <td>jonesy73</td>\n",
       "      <td>False</td>\n",
       "      <td>False</td>\n",
       "      <td>Gutted that we couldn’t all be there together ...</td>\n",
       "      <td>NaN</td>\n",
       "    </tr>\n",
       "    <tr>\n",
       "      <th>309662</th>\n",
       "      <td>4/10/2020 20:20</td>\n",
       "      <td>ryanYNWA</td>\n",
       "      <td>True</td>\n",
       "      <td>False</td>\n",
       "      <td>RT @ElliotHackney: Everyone: Last season was b...</td>\n",
       "      <td>NaN</td>\n",
       "    </tr>\n",
       "    <tr>\n",
       "      <th>309663</th>\n",
       "      <td>4/10/2020 20:20</td>\n",
       "      <td>ChizyFootball</td>\n",
       "      <td>False</td>\n",
       "      <td>False</td>\n",
       "      <td>@quentin_gsp On est ensemble c'est magnifique ...</td>\n",
       "      <td>NaN</td>\n",
       "    </tr>\n",
       "    <tr>\n",
       "      <th>309664</th>\n",
       "      <td>4/10/2020 20:20</td>\n",
       "      <td>A93ii</td>\n",
       "      <td>True</td>\n",
       "      <td>False</td>\n",
       "      <td>RT @AVFCOfficial: 90’ | 'We want eight!'  ...i...</td>\n",
       "      <td>NaN</td>\n",
       "    </tr>\n",
       "  </tbody>\n",
       "</table>\n",
       "<p>309665 rows × 6 columns</p>\n",
       "</div>"
      ],
      "text/plain": [
       "                   date            user  is_retweet  is_quote  \\\n",
       "0       4/10/2020 18:10    justincroser       False     False   \n",
       "1       4/10/2020 18:10      LFCYNWA125        True     False   \n",
       "2       4/10/2020 18:10  itstugenfinest        True     False   \n",
       "3       4/10/2020 18:10     guu_mendees        True     False   \n",
       "4       4/10/2020 18:10   justindivine5        True      True   \n",
       "...                 ...             ...         ...       ...   \n",
       "309660  4/10/2020 20:20     IamTytanium        True      True   \n",
       "309661  4/10/2020 20:20        jonesy73       False     False   \n",
       "309662  4/10/2020 20:20        ryanYNWA        True     False   \n",
       "309663  4/10/2020 20:20   ChizyFootball       False     False   \n",
       "309664  4/10/2020 20:20           A93ii        True     False   \n",
       "\n",
       "                                                     text  \\\n",
       "0       COME ON REDS!! 🔴🔴 Have to sleep for work but h...   \n",
       "1       RT @LFC: Jürgen Klopp provides detail on the s...   \n",
       "2       RT @SkySportsPL: 'I'm pretty sure he won't be ...   \n",
       "3       RT @ludovicofans: Now follow the news        L...   \n",
       "4       RT @AnfieldWatch: Jurgen Klopp: “It’s an inter...   \n",
       "...                                                   ...   \n",
       "309660  RT @kennagq: Don't let a minor ole disastercla...   \n",
       "309661  Gutted that we couldn’t all be there together ...   \n",
       "309662  RT @ElliotHackney: Everyone: Last season was b...   \n",
       "309663  @quentin_gsp On est ensemble c'est magnifique ...   \n",
       "309664  RT @AVFCOfficial: 90’ | 'We want eight!'  ...i...   \n",
       "\n",
       "                                              quoted_text  \n",
       "0                                                     NaN  \n",
       "1                                                     NaN  \n",
       "2                                                     NaN  \n",
       "3                                                     NaN  \n",
       "4       Liverpool face an anxious wait on how long the...  \n",
       "...                                                   ...  \n",
       "309660  Lol you better laff belleful   Do you think Li...  \n",
       "309661                                                NaN  \n",
       "309662                                                NaN  \n",
       "309663                                                NaN  \n",
       "309664                                                NaN  \n",
       "\n",
       "[309665 rows x 6 columns]"
      ]
     },
     "execution_count": 11,
     "metadata": {},
     "output_type": "execute_result"
    }
   ],
   "source": [
    "df"
   ]
  },
  {
   "cell_type": "code",
   "execution_count": 12,
   "metadata": {},
   "outputs": [
    {
     "data": {
      "text/plain": [
       "False    268221\n",
       "True      41444\n",
       "Name: is_quote, dtype: int64"
      ]
     },
     "execution_count": 12,
     "metadata": {},
     "output_type": "execute_result"
    }
   ],
   "source": [
    "df['is_quote'].value_counts()"
   ]
  },
  {
   "cell_type": "markdown",
   "metadata": {},
   "source": [
    "# Data Pre-processing\n",
    "\n",
    "We will perform the following steps:\n",
    "\n",
    "Tokenization: Split the text into sentences and the sentences into words. Lowercase the words and remove punctuation.\n",
    "\n",
    "Words that have fewer than 3 characters are removed.\n",
    "\n",
    "All stopwords are removed.\n",
    "\n",
    "Words are lemmatized — words in third person are changed to first person and verbs in past and future tenses are changed \n",
    "into present.\n",
    "\n",
    "Words are stemmed — words are reduced to their root form.\n"
   ]
  },
  {
   "cell_type": "code",
   "execution_count": null,
   "metadata": {},
   "outputs": [],
   "source": []
  },
  {
   "cell_type": "code",
   "execution_count": null,
   "metadata": {},
   "outputs": [],
   "source": []
  },
  {
   "cell_type": "code",
   "execution_count": null,
   "metadata": {},
   "outputs": [],
   "source": []
  },
  {
   "cell_type": "code",
   "execution_count": null,
   "metadata": {},
   "outputs": [],
   "source": []
  },
  {
   "cell_type": "code",
   "execution_count": null,
   "metadata": {},
   "outputs": [],
   "source": []
  },
  {
   "cell_type": "code",
   "execution_count": null,
   "metadata": {},
   "outputs": [],
   "source": []
  },
  {
   "cell_type": "code",
   "execution_count": null,
   "metadata": {},
   "outputs": [],
   "source": []
  },
  {
   "cell_type": "markdown",
   "metadata": {},
   "source": [
    "# References\n",
    "\n",
    "https://monkeylearn.com/blog/introduction-to-topic-modeling/\n",
    "\n",
    "https://towardsdatascience.com/topic-modeling-and-latent-dirichlet-allocation-in-python-9bf156893c24\n",
    "\n",
    "https://www.machinelearningplus.com/nlp/lemmatization-examples-python/"
   ]
  },
  {
   "cell_type": "code",
   "execution_count": null,
   "metadata": {},
   "outputs": [],
   "source": []
  }
 ],
 "metadata": {
  "kernelspec": {
   "display_name": "Python 3",
   "language": "python",
   "name": "python3"
  },
  "language_info": {
   "codemirror_mode": {
    "name": "ipython",
    "version": 3
   },
   "file_extension": ".py",
   "mimetype": "text/x-python",
   "name": "python",
   "nbconvert_exporter": "python",
   "pygments_lexer": "ipython3",
   "version": "3.7.7"
  }
 },
 "nbformat": 4,
 "nbformat_minor": 4
}
