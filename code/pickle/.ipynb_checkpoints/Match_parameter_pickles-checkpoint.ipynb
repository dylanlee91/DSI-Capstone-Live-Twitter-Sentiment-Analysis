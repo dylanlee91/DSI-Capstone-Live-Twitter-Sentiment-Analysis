{
 "cells": [
  {
   "cell_type": "code",
   "execution_count": 1,
   "metadata": {},
   "outputs": [],
   "source": [
    "import pickle"
   ]
  },
  {
   "cell_type": "markdown",
   "metadata": {},
   "source": [
    "#### Pickling match terms for each match examined\n",
    "To maintain consistency "
   ]
  },
  {
   "cell_type": "code",
   "execution_count": 2,
   "metadata": {},
   "outputs": [],
   "source": [
    "socialmedia_stopwords = ['hi','\\n','\\n\\n', '&amp;', '&gt;', '&lt', ' ', '.', '-', 'got', \"it's\", 'it’s', \"i'm\", 'i’m', 'im', 'want', 'like', 'rt', 'retweet']"
   ]
  },
  {
   "cell_type": "code",
   "execution_count": 3,
   "metadata": {},
   "outputs": [],
   "source": [
    "avlliv_terms = ['liverpool', 'avfc', 'aston', 'villa', 'lfc', 'avlliv']\n",
    "avlliv = socialmedia_stopwords + avlliv_terms"
   ]
  },
  {
   "cell_type": "code",
   "execution_count": 4,
   "metadata": {},
   "outputs": [],
   "source": [
    "muntot_terms = ['tottenham', 'tot', 'spurs', 'thfc', 'mun', 'manchester', 'united', 'mufc','muntot']\n",
    "muntot = socialmedia_stopwords + muntot_terms"
   ]
  },
  {
   "cell_type": "code",
   "execution_count": null,
   "metadata": {},
   "outputs": [],
   "source": []
  },
  {
   "cell_type": "code",
   "execution_count": null,
   "metadata": {},
   "outputs": [],
   "source": []
  },
  {
   "cell_type": "markdown",
   "metadata": {},
   "source": [
    "# Player lists"
   ]
  },
  {
   "cell_type": "code",
   "execution_count": 5,
   "metadata": {},
   "outputs": [],
   "source": [
    "spurs = ['mourinho', 'mou', 'son', 'kane', 'lamela', 'ndombele', 'hojbjerg', 'sissoko', \n",
    "         'reguilon', 'dier', 'sanchez', 'aurier', 'loris', 'davies', 'moura', 'alli']\n",
    "united = ['ole', 'ddg', 'de gea', 'awb', 'bailly', 'maguire', 'shaw', 'matic', 'pogba',\n",
    "          'greenwood', 'fernandes', 'rashford','martial','vdb','mctominay']\n",
    "villa = ['dean smith', 'martinez', 'emi','cash', 'konsa', 'ming', 'targett', 'luiz',\n",
    "         'mcginn', 'grealish', 'trezeguet', 'barkley', 'watkins','traore']\n",
    "liverpool = ['klopp', 'salah', 'mane', 'firmino', 'adrian', 'vvd', 'van dijk', 'gomez',\n",
    "             'robertson', 'robbo', 'wijnaldum', 'gini', 'minamino', 'trent',\n",
    "             'taa', 'keita', 'fabinho', 'jones', 'milner']"
   ]
  },
  {
   "cell_type": "code",
   "execution_count": 6,
   "metadata": {},
   "outputs": [],
   "source": [
    "avlliv_playerlist = liverpool + villa"
   ]
  },
  {
   "cell_type": "code",
   "execution_count": 7,
   "metadata": {},
   "outputs": [],
   "source": [
    "muntot_playerlist = spurs + united"
   ]
  },
  {
   "cell_type": "markdown",
   "metadata": {},
   "source": [
    "# Creating the pickles"
   ]
  },
  {
   "cell_type": "code",
   "execution_count": 8,
   "metadata": {},
   "outputs": [],
   "source": [
    "with open('avlliv.pickle', 'wb') as f:\n",
    "    pickle.dump(avlliv, f)"
   ]
  },
  {
   "cell_type": "code",
   "execution_count": 9,
   "metadata": {},
   "outputs": [],
   "source": [
    "with open('muntot.pickle', 'wb') as f:\n",
    "    pickle.dump(muntot, f)"
   ]
  },
  {
   "cell_type": "code",
   "execution_count": 10,
   "metadata": {},
   "outputs": [],
   "source": [
    "with open('avlliv_playerlist.pickle', 'wb') as f:\n",
    "    pickle.dump(avlliv_playerlist, f)"
   ]
  },
  {
   "cell_type": "code",
   "execution_count": 11,
   "metadata": {},
   "outputs": [],
   "source": [
    "with open('muntot_playerlist.pickle', 'wb') as f:\n",
    "    pickle.dump(muntot_playerlist, f)"
   ]
  },
  {
   "cell_type": "code",
   "execution_count": null,
   "metadata": {},
   "outputs": [],
   "source": []
  }
 ],
 "metadata": {
  "kernelspec": {
   "display_name": "Python 3",
   "language": "python",
   "name": "python3"
  },
  "language_info": {
   "codemirror_mode": {
    "name": "ipython",
    "version": 3
   },
   "file_extension": ".py",
   "mimetype": "text/x-python",
   "name": "python",
   "nbconvert_exporter": "python",
   "pygments_lexer": "ipython3",
   "version": "3.7.7"
  }
 },
 "nbformat": 4,
 "nbformat_minor": 4
}
